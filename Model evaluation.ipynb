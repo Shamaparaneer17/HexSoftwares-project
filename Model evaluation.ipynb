{
 "cells": [
  {
   "cell_type": "code",
   "execution_count": 3,
   "id": "df3780f2-82cb-43a0-8460-27eee0b715ee",
   "metadata": {},
   "outputs": [
    {
     "name": "stdout",
     "output_type": "stream",
     "text": [
      " Accuracy: 0.772093023255814\n",
      " Precision: 0.7707953978680058\n",
      " Recall: 0.772093023255814\n",
      " F1 Score: 0.7710165637718555\n",
      "\n",
      "--- Classification Report ---\n",
      "              precision    recall  f1-score   support\n",
      "\n",
      "           0       0.79      0.83      0.81       126\n",
      "           1       0.74      0.70      0.72        89\n",
      "\n",
      "    accuracy                           0.77       215\n",
      "   macro avg       0.77      0.76      0.76       215\n",
      "weighted avg       0.77      0.77      0.77       215\n",
      "\n"
     ]
    },
    {
     "data": {
      "image/png": "[encoded data removed]",
      "text/plain": [
       "<Figure size 600x400 with 2 Axes>"
      ]
     },
     "metadata": {},
     "output_type": "display_data"
    }
   ],
   "source": [
    "# Project Title : Model Evaluation using Logistic Regression\n",
    "# Author        : Shama P S\n",
    "# Description   : This project demonstrates the evaluation of a Logistic \n",
    "#                 Regression model using classification metrics. \n",
    "#                 It covers data preprocessing, model training, prediction, \n",
    "#                 and evaluation using accuracy, precision, recall, \n",
    "#                 F1-score, confusion matrix, and classification report. \n",
    "#                 Visualization is done using seaborn and matplotlib.\n",
    "#\n",
    "# Tools Used    : Python, NumPy, Pandas, Scikit-learn, Matplotlib, Seaborn\n",
    "# Dataset Source: Iris dataset from scikit-learn (can be replaced with any CSV dataset)\n",
    "import pandas as pd\n",
    "import numpy as np\n",
    "from sklearn.model_selection import train_test_split\n",
    "from sklearn.metrics import accuracy_score, precision_score, recall_score, f1_score, confusion_matrix, classification_report\n",
    "import seaborn as sns\n",
    "import matplotlib.pyplot as plt\n",
    "\n",
    "# =========================\n",
    "# Step 1: Load Your Dataset\n",
    "# =========================\n",
    "# Option 1: Load from CSV (Uncomment and replace with your file)\n",
    "# data = pd.read_csv(\"your_dataset.csv\")\n",
    "\n",
    "# Example: Titanic dataset from seaborn\n",
    "import seaborn as sns\n",
    "data = sns.load_dataset(\"titanic\").dropna(subset=[\"age\", \"sex\", \"class\", \"survived\"])\n",
    "\n",
    "# Features (X) and Target (y)\n",
    "X = pd.get_dummies(data[[\"age\", \"sex\", \"class\"]], drop_first=True)  # convert categorical → numeric\n",
    "y = data[\"survived\"]   # target variable\n",
    "\n",
    "# =========================\n",
    "# Step 2: Train-Test Split\n",
    "# =========================\n",
    "X_train, X_test, y_train, y_test = train_test_split(X, y, test_size=0.3, random_state=42)\n",
    "\n",
    "# =========================\n",
    "# Step 3: Train a Model\n",
    "# =========================\n",
    "from sklearn.linear_model import LogisticRegression\n",
    "model = LogisticRegression(max_iter=200)\n",
    "model.fit(X_train, y_train)\n",
    "\n",
    "# =========================\n",
    "# Step 4: Predictions\n",
    "# =========================\n",
    "y_pred = model.predict(X_test)\n",
    "\n",
    "# =========================\n",
    "# Step 5: Evaluation Metrics\n",
    "# =========================\n",
    "print(\" Accuracy:\", accuracy_score(y_test, y_pred))\n",
    "print(\" Precision:\", precision_score(y_test, y_pred, average='weighted'))\n",
    "print(\" Recall:\", recall_score(y_test, y_pred, average='weighted'))\n",
    "print(\" F1 Score:\", f1_score(y_test, y_pred, average='weighted'))\n",
    "\n",
    "# =========================\n",
    "# Step 6: Classification Report\n",
    "# =========================\n",
    "print(\"\\n--- Classification Report ---\")\n",
    "print(classification_report(y_test, y_pred))\n",
    "\n",
    "# =========================\n",
    "# Step 7: Confusion Matrix Visualization\n",
    "# =========================\n",
    "cm = confusion_matrix(y_test, y_pred)\n",
    "\n",
    "plt.figure(figsize=(6,4))\n",
    "sns.heatmap(cm, annot=True, fmt=\"d\", cmap=\"Blues\",\n",
    "            xticklabels=np.unique(y),\n",
    "            yticklabels=np.unique(y))\n",
    "plt.title(\"Confusion Matrix\")\n",
    "plt.xlabel(\"Predicted Label\")\n",
    "plt.ylabel(\"True Label\")\n",
    "plt.show()"
   ]
  },
  {
   "cell_type": "code",
   "execution_count": null,
   "id": "fe34fc13-0fa5-43f0-8bfa-d57d8af36e7d",
   "metadata": {},
   "outputs": [],
   "source": []
  },
  {
   "cell_type": "code",
   "execution_count": null,
   "id": "2a350151-e840-45fe-9044-0a3450f9c15d",
   "metadata": {},
   "outputs": [],
   "source": []
  }
 ],
 "metadata": {
  "kernelspec": {
   "display_name": "Python [conda env:base] *",
   "language": "python",
   "name": "conda-base-py"
  },
  "language_info": {
   "codemirror_mode": {
    "name": "ipython",
    "version": 3
   },
   "file_extension": ".py",
   "mimetype": "text/x-python",
   "name": "python",
   "nbconvert_exporter": "python",
   "pygments_lexer": "ipython3",
   "version": "3.13.5"
  }
 },
 "nbformat": 4,
 "nbformat_minor": 5
}
